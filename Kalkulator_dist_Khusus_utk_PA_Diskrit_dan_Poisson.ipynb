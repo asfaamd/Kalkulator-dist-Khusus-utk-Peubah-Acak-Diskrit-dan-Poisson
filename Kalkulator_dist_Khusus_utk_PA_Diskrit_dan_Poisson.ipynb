{
  "nbformat": 4,
  "nbformat_minor": 0,
  "metadata": {
    "colab": {
      "name": "Kalkulator dist. Khusus utk PA Diskrit dan Poisson (bab 8 - 9)",
      "provenance": [],
      "collapsed_sections": []
    },
    "kernelspec": {
      "name": "python3",
      "display_name": "Python 3"
    },
    "language_info": {
      "name": "python"
    }
  },
  "cells": [
    {
      "cell_type": "markdown",
      "source": [
        "# Kalkulator dist. Khusus utk PA Diskrit dan Poisson (bab 8 - 9)"
      ],
      "metadata": {
        "id": "oGcYwoDyMe-F"
      }
    },
    {
      "cell_type": "code",
      "execution_count": null,
      "metadata": {
        "id": "Aeth4yvFMc2e"
      },
      "outputs": [],
      "source": [
        "#JANGAN LUPA NGERUN INI DLU SEBELUM DIPAKE\n",
        "import scipy.stats as ss\n",
        "import numpy as np\n",
        "import math"
      ]
    },
    {
      "cell_type": "markdown",
      "source": [
        "**A. Binomial**"
      ],
      "metadata": {
        "id": "cvUcNL1xM8Zc"
      }
    },
    {
      "cell_type": "code",
      "source": [
        "#untuk binomial\n",
        "def fval_binom(x,n,p):\n",
        "  return ss.binom.pmf(x,n,p)\n",
        "\n",
        "#formatnya -> fval_binom(x,n,p)\n",
        "print(\"Hasil f(x) adalah :\", fval_binom(10,8000,0.002))"
      ],
      "metadata": {
        "colab": {
          "base_uri": "https://localhost:8080/"
        },
        "id": "SieymW-kM4b6",
        "outputId": "c0d07aae-b8c1-4d89-9b8a-cedae6edd7dd"
      },
      "execution_count": null,
      "outputs": [
        {
          "output_type": "stream",
          "name": "stdout",
          "text": [
            "Hasil f(x) adalah : 0.03404221464750078\n"
          ]
        }
      ]
    },
    {
      "cell_type": "code",
      "source": [
        "#formatnya -> klo (x<=angka) : ss.binom.cdf(x,n,p)\n",
        "print(\"Hasil F(x) adalah :\", ss.binom.cdf(5,10,0.5))"
      ],
      "metadata": {
        "id": "q_ajiaY9MY0F"
      },
      "execution_count": null,
      "outputs": []
    },
    {
      "cell_type": "code",
      "source": [
        "#klo x(> angka) : 1 - ss.binom.cdf(x,n,p)\n",
        "print(\"Hasil F(x) adalah :\", 1- ss.binom.cdf(1,20,0.25))"
      ],
      "metadata": {
        "colab": {
          "base_uri": "https://localhost:8080/"
        },
        "id": "FpFuAOmqMdE5",
        "outputId": "c2a9da7a-458f-4950-c368-79dbfd919613"
      },
      "execution_count": null,
      "outputs": [
        {
          "output_type": "stream",
          "name": "stdout",
          "text": [
            "Hasil F(x) adalah : 0.9756873751348394\n"
          ]
        }
      ]
    },
    {
      "cell_type": "code",
      "source": [
        "print(1- ss.binom.cdf(0,5,0.2))"
      ],
      "metadata": {
        "colab": {
          "base_uri": "https://localhost:8080/"
        },
        "id": "8qtUiOn206te",
        "outputId": "60a337c1-f58a-42c6-cdcc-ea65da9b9c0b"
      },
      "execution_count": null,
      "outputs": [
        {
          "output_type": "stream",
          "name": "stdout",
          "text": [
            "0.6723199999999999\n"
          ]
        }
      ]
    },
    {
      "cell_type": "markdown",
      "source": [
        "**B. Hipergeometrik (Bisa jadi binom kalo n/N < 0.1)**"
      ],
      "metadata": {
        "id": "cJCK3QW8NAAv"
      }
    },
    {
      "cell_type": "code",
      "source": [
        "#untuk hipergeometrik\n",
        "# Evaluate hypergeometric distribution function f(x) (pmf) when given parameters [N,k,n] are [N:Total population, k:total pop for x, n: number of sample]\n",
        "\n",
        "#---------------------------------------\n",
        "#x = percobaan sukses dari sampel\n",
        "#N = populasi, n = sampel\n",
        "#k = percobaan sukses di populasi\n",
        "#---------------------------------------\n",
        "\n",
        "#formatnya -> ss.hypergeom.pmf(x,N,k,n)\n",
        "# contoh : p(0) atau p(x=0), N = 100, k = 50, n=8 \n",
        "print(ss.hypergeom.pmf(0,100,50,8))"
      ],
      "metadata": {
        "colab": {
          "base_uri": "https://localhost:8080/"
        },
        "id": "ocgWYYBTPA38",
        "outputId": "3c389615-e458-4145-b3a2-f865afd967f8"
      },
      "execution_count": null,
      "outputs": [
        {
          "output_type": "stream",
          "name": "stdout",
          "text": [
            "0.0028850810098075357\n",
            "0.0028850810098075357\n",
            "0.9971149189901924\n"
          ]
        }
      ]
    },
    {
      "cell_type": "code",
      "source": [
        "print(ss.hypergeom.pmf(2,100,8,50))"
      ],
      "metadata": {
        "colab": {
          "base_uri": "https://localhost:8080/"
        },
        "id": "hHYwTDgFw4o2",
        "outputId": "a7d4099f-2d87-41dd-f42d-450900325cec"
      },
      "execution_count": null,
      "outputs": [
        {
          "output_type": "stream",
          "name": "stdout",
          "text": [
            "0.10460705986934275\n"
          ]
        }
      ]
    },
    {
      "cell_type": "code",
      "source": [
        "# Evaluate the cummulative hypergeometric distribution function. Misal hitung: F(8) = P(X<=8) with parameter [N,k,n]\n",
        "print(ss.hypergeom.cdf(0,100,50,8))"
      ],
      "metadata": {
        "id": "h8c4bkGTNWBb"
      },
      "execution_count": null,
      "outputs": []
    },
    {
      "cell_type": "code",
      "source": [
        "#P(x>8) atau 1 - F(x<=8) makaa :\n",
        "print(1 - ss.hypergeom.cdf(0,100,50,8))"
      ],
      "metadata": {
        "id": "ApAV8_c9NYPf"
      },
      "execution_count": null,
      "outputs": []
    },
    {
      "cell_type": "markdown",
      "source": [
        "**C. Poisson**"
      ],
      "metadata": {
        "id": "cYaC0JaBNaDY"
      }
    },
    {
      "cell_type": "code",
      "source": [
        "#untuk poisson\n",
        "# Evaluate poisson distribution function f(x) (pmf: probability mass function) with parameter lambd: rata-rata X dalam suatu periode waktu. \n",
        "def fval_poiss(x,lambd):\n",
        "  return ss.poisson.pmf(x,lambd)\n",
        "\n",
        "#formatnya -> fval_poiss(x,lambd) : utk p(x=3) atau p(3)\n",
        "print(fval_poiss(0,24))"
      ],
      "metadata": {
        "colab": {
          "base_uri": "https://localhost:8080/"
        },
        "id": "8UxccUQuP0y-",
        "outputId": "7dff9987-78cd-4256-b31e-c2ba60a29e9e"
      },
      "execution_count": null,
      "outputs": [
        {
          "output_type": "stream",
          "name": "stdout",
          "text": [
            "3.775134544279098e-11\n"
          ]
        }
      ]
    },
    {
      "cell_type": "code",
      "source": [
        "# formatnya -> ss.poisson.cdf(x,lambda)\n",
        "# untuk F(sesuatu) = P(X<=sesuatu). Contoh P(X<=5) dengan lambd = 2\n",
        "print(ss.poisson.cdf(5,2))"
      ],
      "metadata": {
        "id": "-DMSAIKbNpgP"
      },
      "execution_count": null,
      "outputs": []
    },
    {
      "cell_type": "code",
      "source": [
        "# untuk F(x > sesuatu)\n",
        "# P(X>5) = 1 - P(X<=5) , lambda = 2.4\n",
        "print(1-ss.poisson.cdf(0,0.4))"
      ],
      "metadata": {
        "colab": {
          "base_uri": "https://localhost:8080/"
        },
        "id": "eSdy69NZNrI1",
        "outputId": "f482fef2-15be-48b2-c60b-28874a507c02"
      },
      "execution_count": null,
      "outputs": [
        {
          "output_type": "stream",
          "name": "stdout",
          "text": [
            "0.6703200460356394\n"
          ]
        }
      ]
    },
    {
      "cell_type": "markdown",
      "source": [
        "# Kalkulator dist. Khusus utk PA Kontinyu (bab 10 - 12)"
      ],
      "metadata": {
        "id": "l9QP7Zs0UkMs"
      }
    },
    {
      "cell_type": "markdown",
      "source": [
        "**A. Uniform**"
      ],
      "metadata": {
        "id": "XFDXFYu-NwC0"
      }
    },
    {
      "cell_type": "code",
      "source": [
        "# Uniform Distribution\n",
        "# Evaluate Uniform DIstribution function f(x)\n",
        "def fval_unif(x,a,b):\n",
        "  return ss.uniform.pdf((x-a)/(b-a))\n",
        "\n",
        "#contoh :\n",
        "print(fval_unif(8.8,7,10))\n",
        "\n",
        "#Evaluate cummulative distribution function F(x) = P(X<x)\n",
        "print(ss.uniform.cdf(8.8,7,10))\n",
        "\n",
        "print(ss.uniform.pdf(8,4,12))"
      ],
      "metadata": {
        "id": "SfnTqvmqU2Pi",
        "colab": {
          "base_uri": "https://localhost:8080/"
        },
        "outputId": "977b4a4d-9099-4bb8-edcf-a3aac2a1052e"
      },
      "execution_count": null,
      "outputs": [
        {
          "output_type": "stream",
          "name": "stdout",
          "text": [
            "1.0\n",
            "0.18000000000000008\n",
            "0.1\n"
          ]
        }
      ]
    },
    {
      "cell_type": "code",
      "source": [
        "#Exponential Distribution\n",
        "# Evaluate Exponential Distribution function f(x), with parameter beta is in time unit and its the expectation of exp random variable. \n",
        "def fval_exp(x,beta):\n",
        "  return ss.expon.pdf(1,0,beta)\n",
        "print(fval_exp(1,2),\" is a value for f(x=1;beta=2)\")\n",
        "\n",
        "# Evaluate cummulative distribution function F(x) = P(X<x) for exponential distribution, cth: P(X<1) for \\beta = 2. \n",
        "print(ss.expon.cdf(3,0,4)) \n"
      ],
      "metadata": {
        "id": "9FN45AzfU8xy"
      },
      "execution_count": null,
      "outputs": []
    },
    {
      "cell_type": "code",
      "source": [
        "# Normal Distribution\n",
        "# Evaluate normal distribution function f(x) (pdf), with parameter miu (mean) and sig (standard deviation).\n",
        "def fval_norm(x,mu,sig):\n",
        "  return ss.norm.pdf((x-mu)/sig)\n",
        "\n",
        "print(fval_norm(0.5,0.5,1)) \n",
        "\n",
        "# Evaluate cummulative distribution function F(x) = P(X<x) with parameter miu and sig.\n",
        "def fval_cumnorm(x,mu,sig):\n",
        "  return ss.norm.cdf((x-mu)/sig)"
      ],
      "metadata": {
        "id": "hkd_ElgKVBxn",
        "colab": {
          "base_uri": "https://localhost:8080/"
        },
        "outputId": "0284fc9a-2523-4315-cabd-3ec961f787d7"
      },
      "execution_count": null,
      "outputs": [
        {
          "output_type": "stream",
          "name": "stdout",
          "text": [
            "0.3989422804014327\n"
          ]
        }
      ]
    },
    {
      "cell_type": "code",
      "source": [
        "print(1-fval_cumnorm(80,74,4.8))"
      ],
      "metadata": {
        "colab": {
          "base_uri": "https://localhost:8080/"
        },
        "id": "KEj2LMYTauiE",
        "outputId": "df3f5b3b-aef7-4613-cdd3-1b34b7e739f3"
      },
      "execution_count": null,
      "outputs": [
        {
          "output_type": "stream",
          "name": "stdout",
          "text": [
            "0.10564977366685535\n"
          ]
        }
      ]
    },
    {
      "cell_type": "code",
      "source": [
        "# Rataan sampel\n",
        "# Variansi = simpangan baku dibagi akar n = akar dari simpangan baku kuadrat dibagi n\n",
        "# Formatnya : 1 - ss.norm.cdf((X-mean)/akar dari variansi)\n",
        "\n",
        "print(1 - ss.norm.cdf((360- 4*75)/16/2))\n",
        "print(1 - ss.norm.cdf(0.26*8/math.sqrt(3)))\n",
        "\n",
        "# Kalo di soal diketahui \"Hitung peluang blablabla yang KURANG DARI X\", maka tidak perlu dikurangi 1;\n",
        "print(ss.norm.cdf((360- 4*75)/16/2))"
      ],
      "metadata": {
        "colab": {
          "base_uri": "https://localhost:8080/"
        },
        "id": "jSpaThVDlXkK",
        "outputId": "8342b8ce-4edc-4e92-a6a5-88efd2779111"
      },
      "execution_count": null,
      "outputs": [
        {
          "output_type": "stream",
          "name": "stdout",
          "text": [
            "0.030396361765261393\n",
            "0.11489721625775651\n",
            "0.9696036382347386\n"
          ]
        }
      ]
    },
    {
      "cell_type": "code",
      "source": [
        "print(ss.norm.cdf((49-9)/0.1837))"
      ],
      "metadata": {
        "colab": {
          "base_uri": "https://localhost:8080/"
        },
        "id": "FsC4J5ApbB3V",
        "outputId": "39095d96-850e-4d05-c856-1f7d474e3b89"
      },
      "execution_count": null,
      "outputs": [
        {
          "output_type": "stream",
          "name": "stdout",
          "text": [
            "1.0\n"
          ]
        }
      ]
    },
    {
      "cell_type": "code",
      "source": [
        "print(1-ss.norm.cdf((1830-1800)/200))"
      ],
      "metadata": {
        "colab": {
          "base_uri": "https://localhost:8080/"
        },
        "id": "yztYyiMrW80a",
        "outputId": "ad6f1517-1a7b-4551-9438-61a9c5925d5a"
      },
      "execution_count": null,
      "outputs": [
        {
          "output_type": "stream",
          "name": "stdout",
          "text": [
            "0.4403823076297575\n"
          ]
        }
      ]
    },
    {
      "cell_type": "code",
      "source": [
        "# Untuk menghitung invers dari cdf -> pake ppf\n",
        "# Contoh ngitung yang pake ppf tu ada di soal nomor 2 dan 3 di TUGAS CLO3-4 TEPEL\n",
        "print(ss.norm.ppf(0.1))"
      ],
      "metadata": {
        "colab": {
          "base_uri": "https://localhost:8080/"
        },
        "id": "5rwNurHyogUD",
        "outputId": "825a6b58-78c8-421a-e4ba-228a65c3fa1a"
      },
      "execution_count": null,
      "outputs": [
        {
          "output_type": "stream",
          "name": "stdout",
          "text": [
            "-1.2815515655446004\n"
          ]
        }
      ]
    },
    {
      "cell_type": "code",
      "source": [
        "# Total sampel\n",
        "# Di soal biasanya disebut \"peluang total...\" dan diketahui nilai n nya; nilai X nya biasanya besar;\n",
        "# maka mean-nya dikali dulu dengan n dan variansi = n dikali simpangan baku kuadrat\n",
        "# Formatnya : 1 - ss.norm.cdf((X-(mean*n))/(akar dari n*simpangan baku kuadrat))\n",
        "print(1-ss.norm.cdf((3887-(77*50))/(math.sqrt(50*225))))\n"
      ],
      "metadata": {
        "colab": {
          "base_uri": "https://localhost:8080/"
        },
        "id": "l6-mYV4Mmg7t",
        "outputId": "bb4ae5c7-659e-4e77-d6f2-5217efd2fae3"
      },
      "execution_count": null,
      "outputs": [
        {
          "output_type": "stream",
          "name": "stdout",
          "text": [
            "0.363604961640148\n"
          ]
        }
      ]
    },
    {
      "cell_type": "code",
      "source": [
        "print(1 - ss.norm.cdf((3887-(77*50))/(math.sqrt(50*225))))"
      ],
      "metadata": {
        "colab": {
          "base_uri": "https://localhost:8080/"
        },
        "id": "UD-83xizcd5N",
        "outputId": "0450aa58-338c-49a7-f748-f78acdfc1ddd"
      },
      "execution_count": null,
      "outputs": [
        {
          "output_type": "stream",
          "name": "stdout",
          "text": [
            "0.363604961640148\n"
          ]
        }
      ]
    },
    {
      "cell_type": "markdown",
      "source": [
        "# Contoh Persoalan Hidup"
      ],
      "metadata": {
        "id": "qtiJcBmYy_rO"
      }
    },
    {
      "cell_type": "code",
      "source": [
        "#Sebuah kotak berisi 150 buah jam tangan dari berbagai merk, diantaranya terdapat 30 buah bermerk “SISIKO”. Jika diambil 10\n",
        "#buah jam tangan secara sekaligus dari kotak itu, maka?\n",
        "#Diketahui N = 150, k = 30, n = 10\n",
        "# peluang bahwa paling sedikit 6 dari 10 jam tangan itu bermerk “SISIKO” = p(x>=6) = 1 - F(5)\n",
        "#ingat, p = k/N = 0.2\n",
        "print(1- (ss.binom.cdf(5,10,0.2)))"
      ],
      "metadata": {
        "colab": {
          "base_uri": "https://localhost:8080/"
        },
        "id": "lawp9ccVfs0x",
        "outputId": "ca5c28a7-7949-46d2-992a-3347d2a8f13c"
      },
      "execution_count": null,
      "outputs": [
        {
          "output_type": "stream",
          "name": "stdout",
          "text": [
            "0.006369382399999957\n"
          ]
        }
      ]
    },
    {
      "cell_type": "code",
      "source": [
        "# Perusahaan Waras menerima 100 karyawan baru , terdiri dari 50 wanita dan 50 pria yang lolos seleksi akhir . \n",
        "# Diambil 8 karyawan baru untuk ditempatkan di kantor cabang . \n",
        "# Misalkan X menyatakan banyaknya wanita yang ditempatkan di kantor cabang . \n",
        "# Tentukan peluang terpilih 2 wanita pada penempatan tersebut, dengan menggunakan hampiran Binomial?\n",
        "\n",
        "# N = 100, n = 50, k = 8, x=2\n",
        "print(ss.hypergeom.pmf(2,100,8,50))"
      ],
      "metadata": {
        "colab": {
          "base_uri": "https://localhost:8080/"
        },
        "id": "VfxSKYcNc3Ov",
        "outputId": "1af1f743-110b-45c9-fce5-5a19b0431482"
      },
      "execution_count": null,
      "outputs": [
        {
          "output_type": "stream",
          "name": "stdout",
          "text": [
            "0.10460705986934275\n"
          ]
        }
      ]
    },
    {
      "cell_type": "code",
      "source": [
        "#Diketahui peubah acak kontinu. X berdistribusi Uniform dalam interval (a,b). Jika E(X) = 10 dan Var(X) = 12, maka\n",
        "#p(x>=4) = 1 - p(x<=3) = 1 - F(3) \n",
        "print(1-(ss.uniform.cdf(3, 4, 16)))"
      ],
      "metadata": {
        "colab": {
          "base_uri": "https://localhost:8080/"
        },
        "id": "LZdZ5hOKeyHx",
        "outputId": "32018459-706a-43d6-dbb2-808b31f3f8e8"
      },
      "execution_count": null,
      "outputs": [
        {
          "output_type": "stream",
          "name": "stdout",
          "text": [
            "1.0\n"
          ]
        }
      ]
    },
    {
      "cell_type": "code",
      "source": [
        "#Berdasarkan data log-book penerbangan B212 diperoleh data berat bagasi setiap\n",
        "#penumpang berdistribusi Normal dengan mean 17.3 kg dan simpangan baku 3.1.\n",
        "#Tentukan peluang rata-rata berat bagasi 25 penumpang dalam antrian check in \n",
        "# counter kurang dari 16 kg.\n",
        "# miu = mean = 17.3\n",
        "# variansi = (simp.baku)^2/n = (3.1)^2/25 = 0.38\n",
        "print(ss.norm.cdf((16 - 17.3)/math.sqrt(0.38)))"
      ],
      "metadata": {
        "id": "b4OXa6Jvmr24",
        "colab": {
          "base_uri": "https://localhost:8080/"
        },
        "outputId": "42e4acca-18b0-4cf5-a51a-b14f95523b7a"
      },
      "execution_count": null,
      "outputs": [
        {
          "output_type": "stream",
          "name": "stdout",
          "text": [
            "0.017477536321815222\n"
          ]
        }
      ]
    },
    {
      "cell_type": "code",
      "source": [
        "#Berdasarkan data log-book penerbangan B747 diperoleh data berat penumpang\n",
        "# berdistribusi Normal dengan mean 70 kg dan simpangan baku 8. Tentukan\n",
        "# peluang total berat 400 penumpang melebihi 28480 kg\n",
        "print(1-ss.norm.cdf((28480-(70*400))/(math.sqrt(400*(8**2)))))"
      ],
      "metadata": {
        "colab": {
          "base_uri": "https://localhost:8080/"
        },
        "id": "tt4g7eY6x8Fq",
        "outputId": "81fbe4d1-916f-4622-b468-58cd44f4a75e"
      },
      "execution_count": null,
      "outputs": [
        {
          "output_type": "stream",
          "name": "stdout",
          "text": [
            "0.0013498980316301035\n"
          ]
        }
      ]
    },
    {
      "cell_type": "code",
      "source": [
        ""
      ],
      "metadata": {
        "id": "GzihsSObTczj"
      },
      "execution_count": null,
      "outputs": []
    }
  ]
}